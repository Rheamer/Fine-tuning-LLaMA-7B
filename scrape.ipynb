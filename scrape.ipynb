{
 "cells": [
  {
   "cell_type": "code",
   "execution_count": null,
   "metadata": {},
   "outputs": [],
   "source": [
    "import csv\n",
    "from telethon import TelegramClient, sync\n",
    "\n",
    "\n",
    "# Replace the values below with your own Telegram API credentials\n",
    "api_id = 123456789\n",
    "api_hash = ''\n",
    "phone_number = ''\n",
    "\n",
    "\n",
    "client = TelegramClient(session = 'session_8', api_id = api_id, api_hash = api_hash, system_version=\"4.16.30-vxCUSTOM\", device_model='5.67.2', app_version='1.1.1')\n",
    "await client.start(phone=phone_number)\n"
   ]
  },
  {
   "cell_type": "code",
   "execution_count": null,
   "metadata": {},
   "outputs": [],
   "source": [
    "import re\n",
    "import nltk\n",
    "from nltk.tokenize import word_tokenize\n",
    "from cleantext import clean\n",
    "nltk.download('stopwords')\n",
    "nltk.download('punkt')\n",
    "\n",
    "def clean_text_ru(text):\n",
    "\n",
    "    text = clean(text, no_emoji=True, lower=False)\n",
    "    text = text.replace('#', \"\")\n",
    "    text = text.replace('*', \"\")\n",
    "    text = re.sub(r'https?:\\/\\/\\S+', '', text)\n",
    "    text = re.sub(r'@\\S+', '', text)\n",
    "    text = text.replace('@', \"\")\n",
    "    text = text.replace('Pickup_lineTM', \"\")\n",
    "    text = text.replace('pickup_lineTM', \"\")\n",
    "    text = text.replace('pickup_linetm', \"\")\n",
    "    text = text.replace('Pickup_lineTm', \"\")\n",
    "    text = text.replace('Pickup_lineTm', \"\")\n",
    "    text = text.replace('pickup_linetm', \"\")\n",
    "    \n",
    "    words = word_tokenize(text)\n",
    "    \n",
    "    lemmatizer = nltk.stem.WordNetLemmatizer()\n",
    "    words = [lemmatizer.lemmatize(w, pos='v') for w in words]\n",
    "    \n",
    "    clean_text = ' '.join(words)\n",
    "    \n",
    "    return clean_text"
   ]
  },
  {
   "cell_type": "code",
   "execution_count": null,
   "metadata": {},
   "outputs": [],
   "source": [
    "channels = ]\n",
    "with open('channel_posts_eng_clean_emj.csv', 'w+', newline='' ,encoding='utf-16') as csvfile:\n",
    "    fieldnames = ['message']\n",
    "    writer = csv.DictWriter(csvfile, fieldnames=fieldnames)\n",
    "    writer.writeheader()\n",
    "\n",
    "    for channel_name in channels:\n",
    "        async for message in client.iter_messages(channel_name):\n",
    "            if message.text:\n",
    "                cleant = clean_text_ru(message.text)\n",
    "                if len(cleant) > 0:\n",
    "                    writer.writerow({'message': cleant})"
   ]
  }
 ],
 "metadata": {
  "kernelspec": {
   "display_name": "Python 3",
   "language": "python",
   "name": "python3"
  },
  "language_info": {
   "codemirror_mode": {
    "name": "ipython",
    "version": 3
   },
   "file_extension": ".py",
   "mimetype": "text/x-python",
   "name": "python",
   "nbconvert_exporter": "python",
   "pygments_lexer": "ipython3",
   "version": "3.10.4"
  },
  "orig_nbformat": 4
 },
 "nbformat": 4,
 "nbformat_minor": 2
}
